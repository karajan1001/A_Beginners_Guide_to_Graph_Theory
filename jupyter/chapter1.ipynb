{
 "cells": [
  {
   "cell_type": "markdown",
   "metadata": {},
   "source": [
    "# 引用与设置"
   ]
  },
  {
   "cell_type": "code",
   "execution_count": 23,
   "metadata": {
    "ExecuteTime": {
     "end_time": "2019-01-12T08:58:21.363054Z",
     "start_time": "2019-01-12T08:58:21.355808Z"
    },
    "collapsed": true
   },
   "outputs": [],
   "source": [
    "import networkx as nx\n",
    "import itertools\n",
    "% matplotlib inline"
   ]
  },
  {
   "cell_type": "markdown",
   "metadata": {},
   "source": [
    "# 习题1.1"
   ]
  },
  {
   "cell_type": "markdown",
   "metadata": {},
   "source": [
    "## 习题1.1.2"
   ]
  },
  {
   "cell_type": "markdown",
   "metadata": {},
   "source": [
    "### 数据集"
   ]
  },
  {
   "cell_type": "code",
   "execution_count": 13,
   "metadata": {
    "ExecuteTime": {
     "end_time": "2019-01-12T08:57:15.695717Z",
     "start_time": "2019-01-12T08:57:15.686368Z"
    }
   },
   "outputs": [
    {
     "data": {
      "text/plain": [
       "{-3, -2, -1, 0, 1, 2, 3}"
      ]
     },
     "execution_count": 13,
     "metadata": {},
     "output_type": "execute_result"
    }
   ],
   "source": [
    "nodes = set(range(-3,4))\n",
    "nodes"
   ]
  },
  {
   "cell_type": "markdown",
   "metadata": {},
   "source": [
    "### 是否对称"
   ]
  },
  {
   "cell_type": "code",
   "execution_count": 35,
   "metadata": {
    "ExecuteTime": {
     "end_time": "2019-01-12T09:08:20.412711Z",
     "start_time": "2019-01-12T09:08:20.405640Z"
    },
    "collapsed": true
   },
   "outputs": [],
   "source": [
    "def is_symmetric(G):\n",
    "    \"\"\"\n",
    "    给一张图求其是否对称\n",
    "    \"\"\"\n",
    "    for edge in G.edges:\n",
    "        x, y = edge \n",
    "        if (y, x) in G.edges:\n",
    "            continue\n",
    "        else:\n",
    "            return False\n",
    "    else:\n",
    "        return True\n"
   ]
  },
  {
   "cell_type": "markdown",
   "metadata": {},
   "source": [
    "### 是否反身性"
   ]
  },
  {
   "cell_type": "code",
   "execution_count": 52,
   "metadata": {
    "ExecuteTime": {
     "end_time": "2019-01-12T09:16:04.081156Z",
     "start_time": "2019-01-12T09:16:04.073371Z"
    }
   },
   "outputs": [],
   "source": [
    "def is_reflexive(G):\n",
    "    \"\"\"\n",
    "    给一张图求其是否对称\n",
    "    \"\"\"\n",
    "    for x in G.nodes:\n",
    "        if (x, x) in G.edges:\n",
    "            continue\n",
    "        else:\n",
    "            return False\n",
    "    return True\n"
   ]
  },
  {
   "cell_type": "markdown",
   "metadata": {},
   "source": [
    "### 是否反反身性"
   ]
  },
  {
   "cell_type": "code",
   "execution_count": 53,
   "metadata": {
    "ExecuteTime": {
     "end_time": "2019-01-12T09:16:04.901197Z",
     "start_time": "2019-01-12T09:16:04.895455Z"
    },
    "collapsed": true
   },
   "outputs": [],
   "source": [
    "def is_antireflexive(G):\n",
    "    \"\"\"\n",
    "    给一张图求其是否对称\n",
    "    \"\"\"\n",
    "    for x in G.nodes:\n",
    "        if (x, x) not in G.edges:\n",
    "            continue\n",
    "        else:\n",
    "            return False\n",
    "    return True"
   ]
  },
  {
   "cell_type": "markdown",
   "metadata": {},
   "source": [
    "### 生成图"
   ]
  },
  {
   "cell_type": "code",
   "execution_count": 45,
   "metadata": {
    "ExecuteTime": {
     "end_time": "2019-01-12T09:13:06.597257Z",
     "start_time": "2019-01-12T09:13:06.592356Z"
    }
   },
   "outputs": [],
   "source": [
    "def generate_graph(nodeset, relations):\n",
    "    G = nx.DiGraph()\n",
    "    for node in nodeset:\n",
    "        G.add_node(node)\n",
    "    for x, y in itertools.product(nodeset, nodeset):\n",
    "        if relations(x, y):\n",
    "            G.add_edge(x, y)\n",
    "    return G"
   ]
  },
  {
   "cell_type": "markdown",
   "metadata": {},
   "source": [
    "### 习题1.1.2 (i)\n",
    "\n",
    "x + y <= 4"
   ]
  },
  {
   "cell_type": "code",
   "execution_count": 54,
   "metadata": {
    "ExecuteTime": {
     "end_time": "2019-01-12T09:16:08.701426Z",
     "start_time": "2019-01-12T09:16:08.690495Z"
    }
   },
   "outputs": [
    {
     "name": "stdout",
     "output_type": "stream",
     "text": [
      "True\n",
      "False\n",
      "False\n"
     ]
    }
   ],
   "source": [
    "def relation(x, y):\n",
    "    return x+y<=4\n",
    "G = generate_graph(nodes, relation)\n",
    "print(is_symmetric(G))\n",
    "print(is_reflexive(G))\n",
    "print(is_antireflexive(G))"
   ]
  },
  {
   "cell_type": "markdown",
   "metadata": {},
   "source": [
    "### 习题1.1.2 (ii)\n",
    "\n",
    "x + y <= 6"
   ]
  },
  {
   "cell_type": "code",
   "execution_count": 55,
   "metadata": {
    "ExecuteTime": {
     "end_time": "2019-01-12T09:19:11.054361Z",
     "start_time": "2019-01-12T09:19:11.046307Z"
    }
   },
   "outputs": [
    {
     "name": "stdout",
     "output_type": "stream",
     "text": [
      "True\n",
      "True\n",
      "False\n"
     ]
    }
   ],
   "source": [
    "def relation(x, y):\n",
    "    return x+y<=6\n",
    "G = generate_graph(nodes, relation)\n",
    "print(is_symmetric(G))\n",
    "print(is_reflexive(G))\n",
    "print(is_antireflexive(G))"
   ]
  },
  {
   "cell_type": "markdown",
   "metadata": {},
   "source": [
    "### 习题1.1.2 (iii)\n",
    "\n",
    "x = y + 1"
   ]
  },
  {
   "cell_type": "code",
   "execution_count": 56,
   "metadata": {
    "ExecuteTime": {
     "end_time": "2019-01-12T09:19:11.054361Z",
     "start_time": "2019-01-12T09:19:11.046307Z"
    }
   },
   "outputs": [
    {
     "name": "stdout",
     "output_type": "stream",
     "text": [
      "False\n",
      "False\n",
      "True\n"
     ]
    }
   ],
   "source": [
    "def relation(x, y):\n",
    "    return x == y+1\n",
    "G = generate_graph(nodes, relation)\n",
    "print(is_symmetric(G))\n",
    "print(is_reflexive(G))\n",
    "print(is_antireflexive(G))"
   ]
  },
  {
   "cell_type": "markdown",
   "metadata": {},
   "source": [
    "### 习题1.1.2 (iv)\n",
    "\n",
    "x = $\\pm y$"
   ]
  },
  {
   "cell_type": "code",
   "execution_count": 57,
   "metadata": {
    "ExecuteTime": {
     "end_time": "2019-01-12T09:19:11.054361Z",
     "start_time": "2019-01-12T09:19:11.046307Z"
    }
   },
   "outputs": [
    {
     "name": "stdout",
     "output_type": "stream",
     "text": [
      "True\n",
      "True\n",
      "False\n"
     ]
    }
   ],
   "source": [
    "def relation(x, y):\n",
    "    return x == y or x == -y\n",
    "G = generate_graph(nodes, relation)\n",
    "print(is_symmetric(G))\n",
    "print(is_reflexive(G))\n",
    "print(is_antireflexive(G))"
   ]
  },
  {
   "cell_type": "markdown",
   "metadata": {},
   "source": [
    "## 习题1.1.4"
   ]
  },
  {
   "cell_type": "markdown",
   "metadata": {},
   "source": [
    "### 习题1.1.2 (i)\n",
    "\n",
    "x + y <= 4"
   ]
  },
  {
   "cell_type": "code",
   "execution_count": 58,
   "metadata": {
    "ExecuteTime": {
     "end_time": "2019-01-12T09:21:37.651490Z",
     "start_time": "2019-01-12T09:21:36.976173Z"
    }
   },
   "outputs": [
    {
     "data": {
      "image/png": "[encoded data removed]",
      "text/plain": [
       "<Figure size 432x288 with 1 Axes>"
      ]
     },
     "metadata": {},
     "output_type": "display_data"
    }
   ],
   "source": [
    "def relation(x, y):\n",
    "    return x+y<=4\n",
    "G = generate_graph(nodes, relation)\n",
    "nx.draw(G, with_labels=True)"
   ]
  },
  {
   "cell_type": "markdown",
   "metadata": {},
   "source": [
    "### 习题1.1.2 (ii)\n",
    "\n",
    "x + y <= 6"
   ]
  },
  {
   "cell_type": "code",
   "execution_count": 55,
   "metadata": {
    "ExecuteTime": {
     "end_time": "2019-01-12T09:19:11.054361Z",
     "start_time": "2019-01-12T09:19:11.046307Z"
    }
   },
   "outputs": [
    {
     "name": "stdout",
     "output_type": "stream",
     "text": [
      "True\n",
      "True\n",
      "False\n"
     ]
    }
   ],
   "source": [
    "def relation(x, y):\n",
    "    return x+y<=6\n",
    "G = generate_graph(nodes, relation)\n",
    "print(is_symmetric(G))\n",
    "print(is_reflexive(G))\n",
    "print(is_antireflexive(G))"
   ]
  },
  {
   "cell_type": "markdown",
   "metadata": {},
   "source": [
    "### 习题1.1.2 (iii)\n",
    "\n",
    "x = y + 1"
   ]
  },
  {
   "cell_type": "code",
   "execution_count": 56,
   "metadata": {
    "ExecuteTime": {
     "end_time": "2019-01-12T09:19:11.054361Z",
     "start_time": "2019-01-12T09:19:11.046307Z"
    }
   },
   "outputs": [
    {
     "name": "stdout",
     "output_type": "stream",
     "text": [
      "False\n",
      "False\n",
      "True\n"
     ]
    }
   ],
   "source": [
    "def relation(x, y):\n",
    "    return x == y+1\n",
    "G = generate_graph(nodes, relation)\n",
    "print(is_symmetric(G))\n",
    "print(is_reflexive(G))\n",
    "print(is_antireflexive(G))"
   ]
  },
  {
   "cell_type": "markdown",
   "metadata": {},
   "source": [
    "### 习题1.1.2 (iv)\n",
    "\n",
    "x = $\\pm y$"
   ]
  },
  {
   "cell_type": "code",
   "execution_count": 57,
   "metadata": {
    "ExecuteTime": {
     "end_time": "2019-01-12T09:19:11.054361Z",
     "start_time": "2019-01-12T09:19:11.046307Z"
    }
   },
   "outputs": [
    {
     "name": "stdout",
     "output_type": "stream",
     "text": [
      "True\n",
      "True\n",
      "False\n"
     ]
    }
   ],
   "source": [
    "def relation(x, y):\n",
    "    return x == y or x == -y\n",
    "G = generate_graph(nodes, relation)\n",
    "print(is_symmetric(G))\n",
    "print(is_reflexive(G))\n",
    "print(is_antireflexive(G))"
   ]
  },
  {
   "cell_type": "markdown",
   "metadata": {},
   "source": [
    "## "
   ]
  },
  {
   "cell_type": "code",
   "execution_count": 47,
   "metadata": {
    "ExecuteTime": {
     "end_time": "2019-01-12T09:13:08.614277Z",
     "start_time": "2019-01-12T09:13:08.001970Z"
    }
   },
   "outputs": [
    {
     "data": {
      "image/png": "[encoded data removed]",
      "text/plain": [
       "<Figure size 432x288 with 1 Axes>"
      ]
     },
     "metadata": {},
     "output_type": "display_data"
    }
   ],
   "source": [
    "nx.draw(G, with_labels=True)"
   ]
  },
  {
   "cell_type": "code",
   "execution_count": null,
   "metadata": {
    "collapsed": true
   },
   "outputs": [],
   "source": [
    "G."
   ]
  }
 ],
 "metadata": {
  "kernelspec": {
   "display_name": "Python 3",
   "language": "python",
   "name": "python3"
  },
  "language_info": {
   "codemirror_mode": {
    "name": "ipython",
    "version": 3
   },
   "file_extension": ".py",
   "mimetype": "text/x-python",
   "name": "python",
   "nbconvert_exporter": "python",
   "pygments_lexer": "ipython3",
   "version": "3.6.5"
  },
  "toc": {
   "base_numbering": 1,
   "nav_menu": {},
   "number_sections": true,
   "sideBar": true,
   "skip_h1_title": false,
   "title_cell": "Table of Contents",
   "title_sidebar": "Contents",
   "toc_cell": false,
   "toc_position": {},
   "toc_section_display": true,
   "toc_window_display": true
  },
  "varInspector": {
   "cols": {
    "lenName": 16,
    "lenType": 16,
    "lenVar": 40
   },
   "kernels_config": {
    "python": {
     "delete_cmd_postfix": "",
     "delete_cmd_prefix": "del ",
     "library": "var_list.py",
     "varRefreshCmd": "print(var_dic_list())"
    },
    "r": {
     "delete_cmd_postfix": ") ",
     "delete_cmd_prefix": "rm(",
     "library": "var_list.r",
     "varRefreshCmd": "cat(var_dic_list()) "
    }
   },
   "types_to_exclude": [
    "module",
    "function",
    "builtin_function_or_method",
    "instance",
    "_Feature"
   ],
   "window_display": false
  }
 },
 "nbformat": 4,
 "nbformat_minor": 2
}
