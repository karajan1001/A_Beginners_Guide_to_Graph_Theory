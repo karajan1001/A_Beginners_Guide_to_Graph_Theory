{
 "cells": [
  {
   "cell_type": "markdown",
   "metadata": {},
   "source": [
    "# 引用与设置"
   ]
  },
  {
   "cell_type": "code",
   "execution_count": 1,
   "metadata": {
    "ExecuteTime": {
     "end_time": "2019-01-13T09:50:46.616751Z",
     "start_time": "2019-01-13T09:50:42.934860Z"
    },
    "collapsed": true
   },
   "outputs": [],
   "source": [
    "import networkx as nx\n",
    "import itertools\n",
    "% matplotlib inline"
   ]
  },
  {
   "cell_type": "markdown",
   "metadata": {},
   "source": [
    "# 习题2.1"
   ]
  },
  {
   "cell_type": "markdown",
   "metadata": {},
   "source": [
    "## 习题2.1.1"
   ]
  },
  {
   "cell_type": "code",
   "execution_count": 37,
   "metadata": {
    "ExecuteTime": {
     "end_time": "2019-01-13T15:08:02.069565Z",
     "start_time": "2019-01-13T15:08:02.055388Z"
    }
   },
   "outputs": [
    {
     "name": "stdout",
     "output_type": "stream",
     "text": [
      "['s', 'a', 'c', 'b', 'd', 't'] 6\n",
      "['s', 'a', 'c', 'b', 't'] 5\n",
      "['s', 'a', 'c', 't'] 4\n",
      "['s', 'b', 'c', 't'] 4\n",
      "['s', 'b', 'd', 't'] 4\n",
      "['s', 'b', 't'] 3\n",
      "['s', 'c', 'b', 'd', 't'] 5\n",
      "['s', 'c', 'b', 't'] 4\n",
      "['s', 'c', 't'] 3\n"
     ]
    }
   ],
   "source": [
    "G = nx.Graph()\n",
    "G.add_nodes_from(['s', 'a', 'b', 'c', 'd','t'])\n",
    "G.add_edges_from([('s','a'), ('s', 'b'), ('s','c')])\n",
    "G.add_edges_from([('a','c'), ('b', 'c'), ('b','d'), ('b', 't')])\n",
    "G.add_edges_from([('s','a'), ('s', 'b'), ('s','c')])\n",
    "G.add_edges_from([('c','t'), ('d', 't')])\n",
    "\n",
    "list_ = list()\n",
    "\n",
    "def get_a2b_path(G, a, b, current_path):\n",
    "    if a == b:\n",
    "        \"\"\"\n",
    "        遇到返回全部路径\n",
    "        \"\"\"\n",
    "        list_.append(current_path)\n",
    "        return\n",
    "    \n",
    "    for edge in G.edges(a):\n",
    "        # 所有可能下一步\n",
    "        nex_step = edge[1]\n",
    "        if nex_step in current_path:\n",
    "            # 已经遇到过的禁止使用\n",
    "            continue\n",
    "        else:\n",
    "            nex_path = current_path.copy()\n",
    "            nex_path.append(nex_step)\n",
    "            get_a2b_path(G, nex_step, b, nex_path)\n",
    "            # 向前走一步\n",
    "\n",
    "get_a2b_path(G, 's', 't', ['s'])\n",
    "for i in list_:\n",
    "    print(i, len(i))"
   ]
  },
  {
   "cell_type": "markdown",
   "metadata": {},
   "source": [
    "[s]\n",
    "    [s,a]\n",
    "        [s,a,b,c]\n",
    "            [s,a,b,c,t]\n",
    "        [s,a,t]\n",
    "    [s,b]\n",
    "        [s,b,t]\n",
    "    [s,c]"
   ]
  },
  {
   "cell_type": "code",
   "execution_count": 26,
   "metadata": {
    "ExecuteTime": {
     "end_time": "2019-01-13T14:44:11.857383Z",
     "start_time": "2019-01-13T14:44:11.644621Z"
    }
   },
   "outputs": [
    {
     "name": "stderr",
     "output_type": "stream",
     "text": [
      "/usr/local/lib/python3.6/site-packages/networkx/drawing/nx_pylab.py:611: MatplotlibDeprecationWarning: isinstance(..., numbers.Number)\n",
      "  if cb.is_numlike(alpha):\n"
     ]
    },
    {
     "data": {
      "image/png": "[encoded data removed]",
      "text/plain": [
       "<Figure size 432x288 with 1 Axes>"
      ]
     },
     "metadata": {},
     "output_type": "display_data"
    }
   ],
   "source": [
    "nx.draw(G,with_labels=True)"
   ]
  },
  {
   "cell_type": "markdown",
   "metadata": {},
   "source": [
    "## 习题2.1.2\n"
   ]
  },
  {
   "cell_type": "code",
   "execution_count": 40,
   "metadata": {
    "ExecuteTime": {
     "end_time": "2019-01-13T15:17:36.622267Z",
     "start_time": "2019-01-13T15:17:36.601429Z"
    }
   },
   "outputs": [
    {
     "name": "stdout",
     "output_type": "stream",
     "text": [
      "distance s to a is: 1\n",
      "distance s to b is: 1\n",
      "distance s to c is: 1\n",
      "distance s to d is: 2\n",
      "distance s to t is: 2\n",
      "distance a to s is: 1\n",
      "distance a to b is: 2\n",
      "distance a to c is: 1\n",
      "distance a to d is: 3\n",
      "distance a to t is: 2\n",
      "distance b to s is: 1\n",
      "distance b to a is: 2\n",
      "distance b to c is: 1\n",
      "distance b to d is: 1\n",
      "distance b to t is: 1\n",
      "distance c to s is: 1\n",
      "distance c to a is: 1\n",
      "distance c to b is: 1\n",
      "distance c to d is: 2\n",
      "distance c to t is: 1\n",
      "distance d to s is: 2\n",
      "distance d to a is: 3\n",
      "distance d to b is: 1\n",
      "distance d to c is: 2\n",
      "distance d to t is: 1\n",
      "distance t to s is: 2\n",
      "distance t to a is: 2\n",
      "distance t to b is: 1\n",
      "distance t to c is: 1\n",
      "distance t to d is: 1\n",
      "['s', 'a', 'c', 'b', 'd', 't'] 6\n",
      "['s', 'a', 'c', 'b', 't'] 5\n",
      "['s', 'a', 'c', 't'] 4\n",
      "['s', 'b', 'c', 't'] 4\n",
      "['s', 'b', 'd', 't'] 4\n",
      "['s', 'b', 't'] 3\n",
      "['s', 'c', 'b', 'd', 't'] 5\n",
      "['s', 'c', 'b', 't'] 4\n",
      "['s', 'c', 't'] 3\n"
     ]
    }
   ],
   "source": [
    "\n",
    "G = nx.Graph()\n",
    "G.add_nodes_from(['s', 'a', 'b', 'c', 'd','t'])\n",
    "G.add_edges_from([('s','a'), ('s', 'b'), ('s','c')])\n",
    "G.add_edges_from([('a','c'), ('b', 'c'), ('b','d'), ('b', 't')])\n",
    "G.add_edges_from([('s','a'), ('s', 'b'), ('s','c')])\n",
    "G.add_edges_from([('c','t'), ('d', 't')])\n",
    "\n",
    "\n",
    "for i, j in itertools.product(['s', 'a', 'b', 'c', 'd','t'], ['s', 'a', 'b', 'c', 'd','t']):\n",
    "    if i == j:\n",
    "        continue\n",
    "    else:\n",
    "        print('distance %s to %s is: %s'%(i,j, nx.algorithms.shortest_path_length(G, i, j)))\n",
    "\n",
    "        list_ = list()     \n",
    "get_a2b_path(G, 's', 't', ['s'])\n",
    "for i in list_:\n",
    "    print(i, len(i))"
   ]
  },
  {
   "cell_type": "markdown",
   "metadata": {},
   "source": [
    "## 习题2.1.3"
   ]
  },
  {
   "cell_type": "code",
   "execution_count": 41,
   "metadata": {
    "ExecuteTime": {
     "end_time": "2019-01-13T15:17:41.393450Z",
     "start_time": "2019-01-13T15:17:41.378109Z"
    }
   },
   "outputs": [
    {
     "name": "stdout",
     "output_type": "stream",
     "text": [
      "distance s to a is: 1\n",
      "distance s to b is: 2\n",
      "distance s to c is: 3\n",
      "distance s to d is: 1\n",
      "distance s to t is: 3\n",
      "distance a to s is: 1\n",
      "distance a to b is: 1\n",
      "distance a to c is: 2\n",
      "distance a to d is: 1\n",
      "distance a to t is: 2\n",
      "distance b to s is: 2\n",
      "distance b to a is: 1\n",
      "distance b to c is: 1\n",
      "distance b to d is: 2\n",
      "distance b to t is: 1\n",
      "distance c to s is: 3\n",
      "distance c to a is: 2\n",
      "distance c to b is: 1\n",
      "distance c to d is: 3\n",
      "distance c to t is: 1\n",
      "distance d to s is: 1\n",
      "distance d to a is: 1\n",
      "distance d to b is: 2\n",
      "distance d to c is: 3\n",
      "distance d to t is: 3\n",
      "distance t to s is: 3\n",
      "distance t to a is: 2\n",
      "distance t to b is: 1\n",
      "distance t to c is: 1\n",
      "distance t to d is: 3\n"
     ]
    }
   ],
   "source": [
    "G = nx.Graph()\n",
    "G.add_nodes_from(['s', 'a', 'b', 'c', 'd','e','f','t'])\n",
    "G.add_edges_from([('s','a'), ('s', 'd'),('a','d'), ('a', 'b'),('a', 'f')])\n",
    "G.add_edges_from([('b','c'), ('b', 'f'), ('b','t'), ('c', 't'),('c', 'f')])\n",
    "G.add_edges_from([('d','e'), ('e', 'f')])\n",
    "\n",
    "for i, j in itertools.product(['s', 'a', 'b', 'c', 'd','t'], ['s', 'a', 'b', 'c', 'd','t']):\n",
    "    if i == j:\n",
    "        continue\n",
    "    else:\n",
    "        print('distance %s to %s is: %s'%(i,j, nx.algorithms.shortest_path_length(G, i, j)))"
   ]
  },
  {
   "cell_type": "markdown",
   "metadata": {},
   "source": [
    "## 习题2.1.8"
   ]
  },
  {
   "cell_type": "markdown",
   "metadata": {},
   "source": [
    "$t_1$ 不等于 $u_1$ 所以可以得，假设从$t_n$, $u_m$开始相同, 则$x,t_1...t_n,u_{m-1},...,u_1,x$形成一个环。"
   ]
  },
  {
   "cell_type": "markdown",
   "metadata": {},
   "source": [
    "如果t1,u1相同，有可能tm = um, 最后只有一条path"
   ]
  },
  {
   "cell_type": "code",
   "execution_count": null,
   "metadata": {
    "collapsed": true
   },
   "outputs": [],
   "source": []
  }
 ],
 "metadata": {
  "kernelspec": {
   "display_name": "Python 3",
   "language": "python",
   "name": "python3"
  },
  "language_info": {
   "codemirror_mode": {
    "name": "ipython",
    "version": 3
   },
   "file_extension": ".py",
   "mimetype": "text/x-python",
   "name": "python",
   "nbconvert_exporter": "python",
   "pygments_lexer": "ipython3",
   "version": "3.6.5"
  },
  "toc": {
   "base_numbering": 1,
   "nav_menu": {},
   "number_sections": true,
   "sideBar": true,
   "skip_h1_title": false,
   "title_cell": "Table of Contents",
   "title_sidebar": "Contents",
   "toc_cell": false,
   "toc_position": {},
   "toc_section_display": true,
   "toc_window_display": false
  },
  "varInspector": {
   "cols": {
    "lenName": 16,
    "lenType": 16,
    "lenVar": 40
   },
   "kernels_config": {
    "python": {
     "delete_cmd_postfix": "",
     "delete_cmd_prefix": "del ",
     "library": "var_list.py",
     "varRefreshCmd": "print(var_dic_list())"
    },
    "r": {
     "delete_cmd_postfix": ") ",
     "delete_cmd_prefix": "rm(",
     "library": "var_list.r",
     "varRefreshCmd": "cat(var_dic_list()) "
    }
   },
   "types_to_exclude": [
    "module",
    "function",
    "builtin_function_or_method",
    "instance",
    "_Feature"
   ],
   "window_display": false
  }
 },
 "nbformat": 4,
 "nbformat_minor": 2
}
