{
 "cells": [
  {
   "cell_type": "markdown",
   "metadata": {},
   "source": [
    "# 引用与设置"
   ]
  },
  {
   "cell_type": "code",
   "execution_count": 1,
   "metadata": {
    "ExecuteTime": {
     "end_time": "2019-01-20T07:00:29.096629Z",
     "start_time": "2019-01-20T07:00:28.869514Z"
    }
   },
   "outputs": [
    {
     "name": "stderr",
     "output_type": "stream",
     "text": [
      "UsageError: Line magic function `%` not found.\n"
     ]
    }
   ],
   "source": [
    "import networkx as nx\n",
    "import itertools\n",
    "% matplotlib inline"
   ]
  },
  {
   "cell_type": "markdown",
   "metadata": {},
   "source": [
    "# 习题2.1"
   ]
  },
  {
   "cell_type": "markdown",
   "metadata": {},
   "source": [
    "## 习题2.1.1"
   ]
  },
  {
   "cell_type": "code",
   "execution_count": 3,
   "metadata": {
    "ExecuteTime": {
     "end_time": "2019-01-16T11:51:02.290598Z",
     "start_time": "2019-01-16T11:51:02.258699Z"
    }
   },
   "outputs": [
    {
     "name": "stdout",
     "output_type": "stream",
     "text": [
      "['s', 'a', 'c', 'b', 'd', 't'] 6\n",
      "['s', 'a', 'c', 'b', 't'] 5\n",
      "['s', 'a', 'c', 't'] 4\n",
      "['s', 'b', 'c', 't'] 4\n",
      "['s', 'b', 'd', 't'] 4\n",
      "['s', 'b', 't'] 3\n",
      "['s', 'c', 'b', 'd', 't'] 5\n",
      "['s', 'c', 'b', 't'] 4\n",
      "['s', 'c', 't'] 3\n"
     ]
    }
   ],
   "source": [
    "G = nx.Graph()\n",
    "G.add_nodes_from(['s', 'a', 'b', 'c', 'd','t'])\n",
    "G.add_edges_from([('s','a'), ('s', 'b'), ('s','c')])\n",
    "G.add_edges_from([('a','c'), ('b', 'c'), ('b','d'), ('b', 't')])\n",
    "G.add_edges_from([('s','a'), ('s', 'b'), ('s','c')])\n",
    "G.add_edges_from([('c','t'), ('d', 't')])\n",
    "\n",
    "list_ = list()\n",
    "\n",
    "def get_a2b_path(G, a, b, current_path):\n",
    "    if a == b:\n",
    "        \"\"\"\n",
    "        遇到返回全部路径\n",
    "        \"\"\"\n",
    "        list_.append(current_path)\n",
    "        return\n",
    "    \n",
    "    for edge in G.edges(a):\n",
    "        # 所有可能下一步\n",
    "        nex_step = edge[1]\n",
    "        if nex_step in current_path:\n",
    "            # 已经遇到过的禁止使用\n",
    "            continue\n",
    "        else:\n",
    "            nex_path = current_path.copy()\n",
    "            nex_path.append(nex_step)\n",
    "            get_a2b_path(G, nex_step, b, nex_path)\n",
    "            # 向前走一步\n",
    "\n",
    "get_a2b_path(G, 's', 't', ['s'])\n",
    "for i in list_:\n",
    "    print(i, len(i))"
   ]
  },
  {
   "cell_type": "markdown",
   "metadata": {},
   "source": [
    "[s]\n",
    "    [s,a]\n",
    "        [s,a,b,c]\n",
    "            [s,a,b,c,t]\n",
    "        [s,a,t]\n",
    "    [s,b]\n",
    "        [s,b,t]\n",
    "    [s,c]"
   ]
  },
  {
   "cell_type": "code",
   "execution_count": 4,
   "metadata": {
    "ExecuteTime": {
     "end_time": "2019-01-16T11:51:02.795547Z",
     "start_time": "2019-01-16T11:51:02.324252Z"
    }
   },
   "outputs": [
    {
     "name": "stderr",
     "output_type": "stream",
     "text": [
      "/usr/local/lib/python3.6/site-packages/networkx/drawing/nx_pylab.py:611: MatplotlibDeprecationWarning: isinstance(..., numbers.Number)\n",
      "  if cb.is_numlike(alpha):\n"
     ]
    },
    {
     "data": {
      "image/png": "[encoded data removed]",
      "text/plain": [
       "<Figure size 432x288 with 1 Axes>"
      ]
     },
     "metadata": {},
     "output_type": "display_data"
    }
   ],
   "source": [
    "nx.draw(G,with_labels=True)"
   ]
  },
  {
   "cell_type": "markdown",
   "metadata": {},
   "source": [
    "## 习题2.1.2\n"
   ]
  },
  {
   "cell_type": "code",
   "execution_count": 5,
   "metadata": {
    "ExecuteTime": {
     "end_time": "2019-01-16T11:51:02.842022Z",
     "start_time": "2019-01-16T11:51:02.810611Z"
    }
   },
   "outputs": [
    {
     "name": "stdout",
     "output_type": "stream",
     "text": [
      "distance s to a is: 1\n",
      "distance s to b is: 1\n",
      "distance s to c is: 1\n",
      "distance s to d is: 2\n",
      "distance s to t is: 2\n",
      "distance a to s is: 1\n",
      "distance a to b is: 2\n",
      "distance a to c is: 1\n",
      "distance a to d is: 3\n",
      "distance a to t is: 2\n",
      "distance b to s is: 1\n",
      "distance b to a is: 2\n",
      "distance b to c is: 1\n",
      "distance b to d is: 1\n",
      "distance b to t is: 1\n",
      "distance c to s is: 1\n",
      "distance c to a is: 1\n",
      "distance c to b is: 1\n",
      "distance c to d is: 2\n",
      "distance c to t is: 1\n",
      "distance d to s is: 2\n",
      "distance d to a is: 3\n",
      "distance d to b is: 1\n",
      "distance d to c is: 2\n",
      "distance d to t is: 1\n",
      "distance t to s is: 2\n",
      "distance t to a is: 2\n",
      "distance t to b is: 1\n",
      "distance t to c is: 1\n",
      "distance t to d is: 1\n",
      "['s', 'a', 'c', 'b', 'd', 't'] 6\n",
      "['s', 'a', 'c', 'b', 't'] 5\n",
      "['s', 'a', 'c', 't'] 4\n",
      "['s', 'b', 'c', 't'] 4\n",
      "['s', 'b', 'd', 't'] 4\n",
      "['s', 'b', 't'] 3\n",
      "['s', 'c', 'b', 'd', 't'] 5\n",
      "['s', 'c', 'b', 't'] 4\n",
      "['s', 'c', 't'] 3\n"
     ]
    }
   ],
   "source": [
    "G = nx.Graph()\n",
    "G.add_nodes_from(['s', 'a', 'b', 'c', 'd','t'])\n",
    "G.add_edges_from([('s','a'), ('s', 'b'), ('s','c')])\n",
    "G.add_edges_from([('a','c'), ('b', 'c'), ('b','d'), ('b', 't')])\n",
    "G.add_edges_from([('s','a'), ('s', 'b'), ('s','c')])\n",
    "G.add_edges_from([('c','t'), ('d', 't')])\n",
    "\n",
    "\n",
    "for i, j in itertools.product(['s', 'a', 'b', 'c', 'd','t'], ['s', 'a', 'b', 'c', 'd','t']):\n",
    "    if i == j:\n",
    "        continue\n",
    "    else:\n",
    "        print('distance %s to %s is: %s'%(i,j, nx.algorithms.shortest_path_length(G, i, j)))\n",
    "        list_ = list()\n",
    "\n",
    "get_a2b_path(G, 's', 't', ['s'])\n",
    "for i in list_:\n",
    "    print(i, len(i))"
   ]
  },
  {
   "cell_type": "markdown",
   "metadata": {},
   "source": [
    "## 习题2.1.3"
   ]
  },
  {
   "cell_type": "code",
   "execution_count": 6,
   "metadata": {
    "ExecuteTime": {
     "end_time": "2019-01-16T11:51:02.906026Z",
     "start_time": "2019-01-16T11:51:02.863388Z"
    }
   },
   "outputs": [
    {
     "name": "stdout",
     "output_type": "stream",
     "text": [
      "distance s to a is: 1\n",
      "distance s to b is: 2\n",
      "distance s to c is: 3\n",
      "distance s to d is: 1\n",
      "distance s to t is: 3\n",
      "distance a to s is: 1\n",
      "distance a to b is: 1\n",
      "distance a to c is: 2\n",
      "distance a to d is: 1\n",
      "distance a to t is: 2\n",
      "distance b to s is: 2\n",
      "distance b to a is: 1\n",
      "distance b to c is: 1\n",
      "distance b to d is: 2\n",
      "distance b to t is: 1\n",
      "distance c to s is: 3\n",
      "distance c to a is: 2\n",
      "distance c to b is: 1\n",
      "distance c to d is: 3\n",
      "distance c to t is: 1\n",
      "distance d to s is: 1\n",
      "distance d to a is: 1\n",
      "distance d to b is: 2\n",
      "distance d to c is: 3\n",
      "distance d to t is: 3\n",
      "distance t to s is: 3\n",
      "distance t to a is: 2\n",
      "distance t to b is: 1\n",
      "distance t to c is: 1\n",
      "distance t to d is: 3\n"
     ]
    }
   ],
   "source": [
    "G = nx.Graph()\n",
    "G.add_nodes_from(['s', 'a', 'b', 'c', 'd','e','f','t'])\n",
    "G.add_edges_from([('s','a'), ('s', 'd'),('a','d'), ('a', 'b'),('a', 'f')])\n",
    "G.add_edges_from([('b','c'), ('b', 'f'), ('b','t'), ('c', 't'),('c', 'f')])\n",
    "G.add_edges_from([('d','e'), ('e', 'f')])\n",
    "\n",
    "for i, j in itertools.product(['s', 'a', 'b', 'c', 'd','t'], ['s', 'a', 'b', 'c', 'd','t']):\n",
    "    if i == j:\n",
    "        continue\n",
    "    else:\n",
    "        print('distance %s to %s is: %s'%(i,j, nx.algorithms.shortest_path_length(G, i, j)))"
   ]
  },
  {
   "cell_type": "markdown",
   "metadata": {},
   "source": [
    "## 习题2.1.8"
   ]
  },
  {
   "cell_type": "markdown",
   "metadata": {},
   "source": [
    "$t_1$ 不等于 $u_1$ 所以可以得，假设从$t_n$, $u_m$开始相同, 则$x,t_1...t_n,u_{m-1},...,u_1,x$形成一个环。"
   ]
  },
  {
   "cell_type": "markdown",
   "metadata": {},
   "source": [
    "如果t1,u1相同，有可能tm = um, 最后只有一条path"
   ]
  },
  {
   "cell_type": "markdown",
   "metadata": {
    "collapsed": true
   },
   "source": [
    "# 习题2.2"
   ]
  },
  {
   "cell_type": "markdown",
   "metadata": {},
   "source": [
    "## 习题2.2.2 and 习题2.2.4"
   ]
  },
  {
   "cell_type": "code",
   "execution_count": 81,
   "metadata": {
    "ExecuteTime": {
     "end_time": "2019-01-16T14:02:17.660578Z",
     "start_time": "2019-01-16T14:02:17.611807Z"
    }
   },
   "outputs": [
    {
     "name": "stdout",
     "output_type": "stream",
     "text": [
      "center is  [0, 2, 4, 6]\n",
      "radius is  2\n",
      "diameter is  3\n",
      "girth is  3\n",
      "circumference is  8\n"
     ]
    }
   ],
   "source": [
    "\n",
    "def dfs(G, current_node, end_node, current_path, list_):\n",
    "    for _, nex_step in G.edges(current_node):\n",
    "        # 所有可能下一步\n",
    "        if current_node == end_node and current_path:\n",
    "            \"\"\"\n",
    "            找到环记录下来当前深度\n",
    "            \"\"\"\n",
    "            list_.append(len(current_path))\n",
    "        if nex_step in current_path:\n",
    "            # 已经遇到过的禁止使用\n",
    "            continue\n",
    "        else:\n",
    "            # 继续寻找下个\n",
    "            current_path.append(nex_step)\n",
    "            dfs(G, nex_step, end_node, current_path, list_)\n",
    "        # 搜索完成\n",
    "        current_path.pop()\n",
    "   \n",
    "        \n",
    "def bfs(G, start_node, min_circle):\n",
    "    if start_node not in G.nodes:\n",
    "        raise ValueError(\"start point is not a node\")\n",
    "    level = 0\n",
    "    level_dict = dict()\n",
    "    level_dict[start_node] = 0\n",
    "    current_level = {start_node}\n",
    "    next_level = set()\n",
    "    all_nodes = {i for i in G.nodes}\n",
    "    all_nodes.remove(start_node)\n",
    "    if level == min_circle:\n",
    "        return\n",
    "    while all_nodes:\n",
    "        level += 1\n",
    "        if not current_level:\n",
    "            break\n",
    "        for current_node in current_level:\n",
    "            \"\"\"\n",
    "            找到所有顶点\n",
    "            \"\"\"\n",
    "            for i, next_node in G.edges(current_node):\n",
    "                \"\"\"\n",
    "                找到所有近邻\n",
    "                \"\"\"\n",
    "            \n",
    "                if next_node not in all_nodes:\n",
    "                    return min(min_circle, level_dict[next_node] + level + 1)\n",
    "                next_level.add(next_node)\n",
    "                level_dict[next_node] = level\n",
    "                all_nodes.remove(next_node)\n",
    "        current_level = next_level.copy()\n",
    "        next_level = set()\n",
    "    return min(min_circle, 2e10)\n",
    "\n",
    "\n",
    "def calc_girth(G):\n",
    "    girth = 2e10\n",
    "    for node in G.nodes:\n",
    "        girth = bfs(G, node ,girth)\n",
    "    return girth\n",
    "\n",
    "def calc_circumference(G):\n",
    "    circle_list = list()\n",
    "    circle_list.append(0)\n",
    "    for node in G.nodes:\n",
    "        list_ = []\n",
    "        dfs(G, node, node, [],list_)\n",
    "        circle_list.append(max(list_))\n",
    "    return max(circle_list)\n",
    "\n",
    "def print_result(G):\n",
    "    print(\"center is \", nx.algorithms.center(G))\n",
    "    print(\"radius is \", nx.algorithms.radius(G))\n",
    "    print(\"diameter is \", nx.algorithms.diameter(G))\n",
    "    print(\"girth is \", calc_girth(G))\n",
    "    print(\"circumference is \", calc_circumference(G))\n",
    "\n",
    "print_result(G)"
   ]
  },
  {
   "cell_type": "markdown",
   "metadata": {},
   "source": [
    "### 2.2.2(i)"
   ]
  },
  {
   "cell_type": "code",
   "execution_count": 82,
   "metadata": {
    "ExecuteTime": {
     "end_time": "2019-01-16T14:02:30.294838Z",
     "start_time": "2019-01-16T14:02:30.024811Z"
    }
   },
   "outputs": [
    {
     "name": "stderr",
     "output_type": "stream",
     "text": [
      "/usr/local/lib/python3.6/site-packages/networkx/drawing/nx_pylab.py:611: MatplotlibDeprecationWarning: isinstance(..., numbers.Number)\n",
      "  if cb.is_numlike(alpha):\n"
     ]
    },
    {
     "name": "stdout",
     "output_type": "stream",
     "text": [
      "center is  [0, 2, 4, 6]\n",
      "radius is  2\n",
      "diameter is  3\n",
      "girth is  3\n",
      "circumference is  8\n"
     ]
    },
    {
     "data": {
      "image/png": "[encoded data removed]",
      "text/plain": [
       "<Figure size 432x288 with 1 Axes>"
      ]
     },
     "metadata": {},
     "output_type": "display_data"
    }
   ],
   "source": [
    "G = nx.Graph()\n",
    "G.add_nodes_from(list(range(8)))\n",
    "G.add_edges_from([(0,1),(1,2),(2,3),(3,4),(4,5),(5,6),(6,7),(7,0)])\n",
    "G.add_edges_from([(0,2), (2,4),(4,6),(6,0)])\n",
    "nx.draw_circular(G, with_labels=True)\n",
    "\n",
    "print_result(G)"
   ]
  },
  {
   "cell_type": "markdown",
   "metadata": {},
   "source": [
    "### 2.2.2(ii)"
   ]
  },
  {
   "cell_type": "code",
   "execution_count": 84,
   "metadata": {
    "ExecuteTime": {
     "end_time": "2019-01-16T14:04:19.788041Z",
     "start_time": "2019-01-16T14:04:19.513000Z"
    }
   },
   "outputs": [
    {
     "name": "stderr",
     "output_type": "stream",
     "text": [
      "/usr/local/lib/python3.6/site-packages/networkx/drawing/nx_pylab.py:611: MatplotlibDeprecationWarning: isinstance(..., numbers.Number)\n",
      "  if cb.is_numlike(alpha):\n"
     ]
    },
    {
     "name": "stdout",
     "output_type": "stream",
     "text": [
      "center is  [0, 4]\n",
      "radius is  2\n",
      "diameter is  4\n",
      "girth is  3\n",
      "circumference is  8\n"
     ]
    },
    {
     "data": {
      "image/png": "[encoded data removed]",
      "text/plain": [
       "<Figure size 432x288 with 1 Axes>"
      ]
     },
     "metadata": {},
     "output_type": "display_data"
    }
   ],
   "source": [
    "G = nx.Graph()\n",
    "G.add_nodes_from(list(range(8)))\n",
    "G.add_edges_from([(0,1),(1,2),(2,3),(3,4),(4,5),(5,6),(6,7),(7,0)])\n",
    "G.add_edges_from([(0,4)])\n",
    "nx.draw_circular(G, with_labels=True)\n",
    "print_result(G)"
   ]
  },
  {
   "cell_type": "markdown",
   "metadata": {},
   "source": [
    "### 2.2.2(iii)"
   ]
  },
  {
   "cell_type": "code",
   "execution_count": 85,
   "metadata": {
    "ExecuteTime": {
     "end_time": "2019-01-16T14:05:01.325255Z",
     "start_time": "2019-01-16T14:05:01.055363Z"
    }
   },
   "outputs": [
    {
     "name": "stderr",
     "output_type": "stream",
     "text": [
      "/usr/local/lib/python3.6/site-packages/networkx/drawing/nx_pylab.py:611: MatplotlibDeprecationWarning: isinstance(..., numbers.Number)\n",
      "  if cb.is_numlike(alpha):\n"
     ]
    },
    {
     "name": "stdout",
     "output_type": "stream",
     "text": [
      "center is  [0, 3, 4, 7]\n",
      "radius is  3\n",
      "diameter is  4\n",
      "girth is  3\n",
      "circumference is  8\n"
     ]
    },
    {
     "data": {
      "image/png": "[encoded data removed]",
      "text/plain": [
       "<Figure size 432x288 with 1 Axes>"
      ]
     },
     "metadata": {},
     "output_type": "display_data"
    }
   ],
   "source": [
    "G = nx.Graph()\n",
    "G.add_nodes_from(list(range(8)))\n",
    "G.add_edges_from([(0,1),(1,2),(2,3),(3,4),(4,5),(5,6),(6,7),(7,0)])\n",
    "G.add_edges_from([(0,3)])\n",
    "nx.draw_circular(G, with_labels=True)\n",
    "print_result(G)"
   ]
  },
  {
   "cell_type": "markdown",
   "metadata": {},
   "source": [
    "### 2.2.2(iv)"
   ]
  },
  {
   "cell_type": "code",
   "execution_count": 88,
   "metadata": {
    "ExecuteTime": {
     "end_time": "2019-01-16T14:07:58.889690Z",
     "start_time": "2019-01-16T14:07:58.615304Z"
    }
   },
   "outputs": [
    {
     "name": "stderr",
     "output_type": "stream",
     "text": [
      "/usr/local/lib/python3.6/site-packages/networkx/drawing/nx_pylab.py:611: MatplotlibDeprecationWarning: isinstance(..., numbers.Number)\n",
      "  if cb.is_numlike(alpha):\n"
     ]
    },
    {
     "name": "stdout",
     "output_type": "stream",
     "text": [
      "center is  [1, 5, 9]\n",
      "radius is  3\n",
      "diameter is  5\n",
      "girth is  3\n",
      "circumference is  5\n"
     ]
    },
    {
     "data": {
      "image/png": "[encoded data removed]",
      "text/plain": [
       "<Figure size 432x288 with 1 Axes>"
      ]
     },
     "metadata": {},
     "output_type": "display_data"
    }
   ],
   "source": [
    "G = nx.Graph()\n",
    "G.add_nodes_from(list(range(10)))\n",
    "G.add_edges_from([(0,5),(1,2),(1,5),(1,6),(2,3),(2,7)])\n",
    "G.add_edges_from([(4,8),(5,8),(5,9)])\n",
    "G.add_edges_from([(6,9),(7,9)])\n",
    "nx.draw(G, with_labels=True)\n",
    "print_result(G)"
   ]
  },
  {
   "cell_type": "markdown",
   "metadata": {},
   "source": [
    "### 2.2.2(v)"
   ]
  },
  {
   "cell_type": "code",
   "execution_count": 89,
   "metadata": {
    "ExecuteTime": {
     "end_time": "2019-01-16T14:10:31.404396Z",
     "start_time": "2019-01-16T14:10:31.156560Z"
    }
   },
   "outputs": [
    {
     "name": "stderr",
     "output_type": "stream",
     "text": [
      "/usr/local/lib/python3.6/site-packages/networkx/drawing/nx_pylab.py:611: MatplotlibDeprecationWarning: isinstance(..., numbers.Number)\n",
      "  if cb.is_numlike(alpha):\n"
     ]
    },
    {
     "name": "stdout",
     "output_type": "stream",
     "text": [
      "center is  [8, 9]\n",
      "radius is  3\n",
      "diameter is  5\n",
      "girth is  3\n",
      "circumference is  6\n"
     ]
    },
    {
     "data": {
      "image/png": "[encoded data removed]",
      "text/plain": [
       "<Figure size 432x288 with 1 Axes>"
      ]
     },
     "metadata": {},
     "output_type": "display_data"
    }
   ],
   "source": [
    "G = nx.Graph()\n",
    "G.add_nodes_from(list(range(10)))\n",
    "G.add_edges_from([(0,4),(1,5),(2,6),(3,7),(5,8),(6,9)])\n",
    "G.add_edges_from([(2,1),(9,8),(4,8),(7,9)])\n",
    "nx.draw(G, with_labels=True)\n",
    "print_result(G)"
   ]
  },
  {
   "cell_type": "markdown",
   "metadata": {},
   "source": [
    "### 习题2.2.9"
   ]
  },
  {
   "cell_type": "markdown",
   "metadata": {
    "collapsed": true
   },
   "source": [
    "G是个连通图， 直径为d,设a到t之间距离为d,则a,b....,s,t序列。如果G-{a,b}是连通图，则得证，如果G-{a,b}是非连通图。说明除了至少有一个节点x只能通过a或者b连接t。连在a上的节点都必然有可以不通过a连接t的路径否则，xt之间距离大于d。所以节点x只能通过b连接t，而且不能经过a，否则xt距离会大于d。假设x经过by连接t，则可以得到x,y,a，都连接了b。又因为G没有$K_{1,3}$同构的子图。x,y,a之间必有其他连接。如果x,y之间有连接，则去掉ab不影响x和t连接。与已知G-{a,b}后x没有和t连接路径不符。如果x,y没有连接，则a,y不能有连接，否则，t到a的距离小于t到x的举例。所以a,x有连接，此时去掉x,a后不影响连接t。 命题得证"
   ]
  },
  {
   "cell_type": "markdown",
   "metadata": {
    "collapsed": true
   },
   "source": [
    "# 习题2.3"
   ]
  },
  {
   "cell_type": "code",
   "execution_count": 158,
   "metadata": {
    "ExecuteTime": {
     "end_time": "2019-01-17T14:31:51.303113Z",
     "start_time": "2019-01-17T14:31:51.287479Z"
    }
   },
   "outputs": [
    {
     "data": {
      "text/plain": [
       "[('s', 0),\n",
       " ('e', 2),\n",
       " ('d', 3),\n",
       " ('b', 4),\n",
       " ('a', 6),\n",
       " ('g', 6),\n",
       " ('f', 6),\n",
       " ('t', 9)]"
      ]
     },
     "execution_count": 158,
     "metadata": {},
     "output_type": "execute_result"
    }
   ],
   "source": [
    "def dijkstra(G ,a):\n",
    "    # 初始化\n",
    "    S = list()\n",
    "    S.append((a, 0))\n",
    "    def find_next(S):\n",
    "        min_dis = None\n",
    "        next_node = None\n",
    "        current_s= {i[0] for i in S}\n",
    "        for current_node, distance in S:\n",
    "            for _, neighbour, data in G.edges(current_node, data=True):\n",
    "                weight = data['weight']\n",
    "                if neighbour in current_s:\n",
    "                    continue\n",
    "                if min_dis is None:\n",
    "                    min_dis = distance + weight\n",
    "                    next_node = neighbour\n",
    "                else:\n",
    "                    if min_dis < distance + weight:\n",
    "                        continue\n",
    "                    else:\n",
    "                        min_dis = distance + weight\n",
    "                        next_node = neighbour\n",
    "        return next_node,min_dis\n",
    "    while True:\n",
    "        next_node,min_dis = find_next(S)\n",
    "        if next_node is not None:\n",
    "            S.append((next_node,min_dis))\n",
    "        else:\n",
    "            break\n",
    "    return S\n",
    "dijkstra(wG, 's')"
   ]
  },
  {
   "cell_type": "markdown",
   "metadata": {},
   "source": [
    "## 习题2.3.2"
   ]
  },
  {
   "cell_type": "code",
   "execution_count": 159,
   "metadata": {
    "ExecuteTime": {
     "end_time": "2019-01-17T14:34:09.817286Z",
     "start_time": "2019-01-17T14:34:09.499880Z"
    }
   },
   "outputs": [
    {
     "name": "stderr",
     "output_type": "stream",
     "text": [
      "/usr/local/lib/python3.6/site-packages/networkx/drawing/nx_pylab.py:611: MatplotlibDeprecationWarning: isinstance(..., numbers.Number)\n",
      "  if cb.is_numlike(alpha):\n"
     ]
    },
    {
     "data": {
      "text/plain": [
       "[('s', 0),\n",
       " ('e', 2),\n",
       " ('d', 3),\n",
       " ('b', 4),\n",
       " ('a', 6),\n",
       " ('g', 6),\n",
       " ('f', 6),\n",
       " ('t', 9)]"
      ]
     },
     "execution_count": 159,
     "metadata": {},
     "output_type": "execute_result"
    },
    {
     "data": {
      "image/png": "[encoded data removed]",
      "text/plain": [
       "<Figure size 432x288 with 1 Axes>"
      ]
     },
     "metadata": {},
     "output_type": "display_data"
    }
   ],
   "source": [
    "wG = nx.Graph()\n",
    "wG.add_node('a',pos=(1,2))\n",
    "wG.add_node('b',pos=(2,2))\n",
    "wG.add_node('d',pos=(0,1))\n",
    "wG.add_node('e',pos=(1,1))\n",
    "wG.add_node('f',pos=(2,1))\n",
    "wG.add_node('g',pos=(1,0))\n",
    "wG.add_node('s',pos=(0,2))\n",
    "wG.add_node('t',pos=(2,0))\n",
    "\n",
    "\n",
    "wG.add_edge('s', 'd', weight=3)\n",
    "wG.add_edge('s', 'e', weight=2)\n",
    "wG.add_edge('b', 'f', weight=4)\n",
    "wG.add_edge('b', 'e', weight=2)\n",
    "wG.add_edge('a', 'b', weight=2)\n",
    "wG.add_edge('a', 'd', weight=5)\n",
    "wG.add_edge('g', 'd', weight=3)\n",
    "wG.add_edge('f', 'e', weight=4)\n",
    "wG.add_edge('f', 't', weight=3)\n",
    "wG.add_edge('f', 'g', weight=4)\n",
    "wG.add_edge('g', 't', weight=4)\n",
    "\n",
    "\n",
    "pos=nx.get_node_attributes(wG, 'pos')\n",
    "nx.draw(wG,pos,with_labels=True)\n",
    "\n",
    "labels = nx.get_edge_attributes(wG,'weight')\n",
    "nx.draw_networkx_edge_labels(wG, pos, edge_labels=labels)\n",
    "dijkstra(wG, 's')"
   ]
  },
  {
   "cell_type": "markdown",
   "metadata": {},
   "source": [
    "## 习题2.3.2"
   ]
  },
  {
   "cell_type": "code",
   "execution_count": 162,
   "metadata": {
    "ExecuteTime": {
     "end_time": "2019-01-17T14:38:15.249712Z",
     "start_time": "2019-01-17T14:38:14.954936Z"
    }
   },
   "outputs": [
    {
     "name": "stderr",
     "output_type": "stream",
     "text": [
      "/usr/local/lib/python3.6/site-packages/networkx/drawing/nx_pylab.py:611: MatplotlibDeprecationWarning: isinstance(..., numbers.Number)\n",
      "  if cb.is_numlike(alpha):\n"
     ]
    },
    {
     "data": {
      "text/plain": [
       "[('s', 0),\n",
       " ('d', 3),\n",
       " ('e', 4),\n",
       " ('b', 6),\n",
       " ('f', 7),\n",
       " ('a', 8),\n",
       " ('t', 11),\n",
       " ('c', 13)]"
      ]
     },
     "execution_count": 162,
     "metadata": {},
     "output_type": "execute_result"
    },
    {
     "data": {
      "image/png": "[encoded data removed]",
      "text/plain": [
       "<Figure size 432x288 with 1 Axes>"
      ]
     },
     "metadata": {},
     "output_type": "display_data"
    }
   ],
   "source": [
    "wG = nx.Graph()\n",
    "wG.add_node('a',pos=(0,2))\n",
    "wG.add_node('b',pos=(0,1))\n",
    "wG.add_node('c',pos=(0,0))\n",
    "wG.add_node('d',pos=(1,3))\n",
    "wG.add_node('e',pos=(1,2))\n",
    "wG.add_node('f',pos=(1,1))\n",
    "wG.add_node('s',pos=(0,3))\n",
    "wG.add_node('t',pos=(1,0))\n",
    "\n",
    "\n",
    "wG.add_edge('s', 'd', weight=3)\n",
    "wG.add_edge('s', 'e', weight=4)\n",
    "wG.add_edge('a', 'e', weight=4)\n",
    "wG.add_edge('a', 'f', weight=2)\n",
    "wG.add_edge('a', 'd', weight=5)\n",
    "wG.add_edge('a', 'b', weight=4)\n",
    "wG.add_edge('b', 'f', weight=3)\n",
    "wG.add_edge('b', 'e', weight=2)\n",
    "wG.add_edge('b', 't', weight=5)\n",
    "wG.add_edge('c', 'f', weight=6)\n",
    "wG.add_edge('c', 't', weight=4)\n",
    "\n",
    "wG.add_edge('f', 'e', weight=3)\n",
    "\n",
    "\n",
    "pos=nx.get_node_attributes(wG, 'pos')\n",
    "nx.draw(wG,pos,with_labels=True)\n",
    "\n",
    "labels = nx.get_edge_attributes(wG,'weight')\n",
    "nx.draw_networkx_edge_labels(wG, pos, edge_labels=labels)\n",
    "dijkstra(wG, 's')"
   ]
  },
  {
   "cell_type": "markdown",
   "metadata": {
    "collapsed": true
   },
   "source": [
    "# 习题2.4"
   ]
  },
  {
   "cell_type": "markdown",
   "metadata": {},
   "source": [
    "## 习题2.4.1"
   ]
  },
  {
   "cell_type": "markdown",
   "metadata": {},
   "source": [
    "- Euler walk: (ii), (iii)\n",
    "- closed Euler walk: (ii)\n",
    "- Eulerization number eu(G): (i):2,"
   ]
  },
  {
   "cell_type": "markdown",
   "metadata": {},
   "source": [
    "#  习题2.5"
   ]
  },
  {
   "cell_type": "markdown",
   "metadata": {},
   "source": [
    "## 习题2.5.10"
   ]
  },
  {
   "cell_type": "markdown",
   "metadata": {},
   "source": [
    "### 习题2.5.10 (i)"
   ]
  },
  {
   "cell_type": "markdown",
   "metadata": {},
   "source": [
    "任意不相连的x,y有$d(x) + d(y) < v$。xz与yz一共有$2v- 4$条不同边，只有$v-1$条路径,而xy不相连。所以，至少有$2v-4 - (v-1) + 1$ 条边不相连，G最多只有$v(v-1) /2 - (v-2) = \\frac{v*v - 3v + 4} 2$条边"
   ]
  },
  {
   "cell_type": "markdown",
   "metadata": {},
   "source": [
    "### 习题2.5.10 (ii)"
   ]
  },
  {
   "cell_type": "markdown",
   "metadata": {},
   "source": [
    "按照方法构造可以寻找到。一个完全图加一个顶点和一条边"
   ]
  },
  {
   "cell_type": "markdown",
   "metadata": {},
   "source": [
    "# 习题2.6"
   ]
  },
  {
   "cell_type": "code",
   "execution_count": 115,
   "metadata": {
    "ExecuteTime": {
     "end_time": "2019-01-20T09:17:55.374118Z",
     "start_time": "2019-01-20T09:17:55.353185Z"
    }
   },
   "outputs": [],
   "source": [
    "def nearest_neighbours(G, start):\n",
    "    if start not in G.nodes:\n",
    "        raise Exception('start {} no in gragh'.format(start))\n",
    "    circle = []\n",
    "    total_length = 0\n",
    "    current_node = start\n",
    "    circle.append(start)\n",
    "    not_used_nodes = set(G.nodes)\n",
    "    not_used_nodes.remove(start)\n",
    "    while not_used_nodes:\n",
    "        min_weight = float('inf')\n",
    "        next_node = None\n",
    "        if current_node is None:\n",
    "            raise Exception('can not find next node')\n",
    "        for neighbour in G.neighbors(current_node):\n",
    "            if neighbour not in not_used_nodes:\n",
    "                continue\n",
    "            weight = G.get_edge_data(current_node, neighbour)['weight']\n",
    "\n",
    "            if weight < min_weight:\n",
    "                next_node = neighbour\n",
    "                min_weight = weight\n",
    "        current_node = next_node\n",
    "        circle.append(current_node)\n",
    "        not_used_nodes.remove(current_node)\n",
    "        total_length += min_weight\n",
    "    \n",
    "    circle.append(start)\n",
    "    data = G.get_edge_data(current_node, start)\n",
    "    final_weight = data['weight']\n",
    "    total_length += final_weight\n",
    "    return total_length,circle\n",
    "\n",
    "from collections import defaultdict\n",
    "def sorted_edge(G):\n",
    "    edge_list = [(i,j,k['weight']) for i,j,k in G.edges(data=True)]\n",
    "    edge_list.sort(key=lambda a:a[2])\n",
    "    cycle_edge = list()\n",
    "    total_len = 0\n",
    "    current_degree = defaultdict(int)\n",
    "    for start, end, weight in edge_list:\n",
    "        if current_degree[start] >= 2 or current_degree[end] >= 2:\n",
    "            continue\n",
    "        if current_degree[start] == 1 and current_degree[end] == 1:\n",
    "            continue\n",
    "        else:\n",
    "            current_degree[start] += 1\n",
    "            current_degree[end] +=1\n",
    "            cycle_edge.append((start, end))\n",
    "            total_len += weight\n",
    "    unused = set()\n",
    "\n",
    "    for i in G.nodes:\n",
    "        if current_degree[i] == 1:\n",
    "            unused.add(i)\n",
    "        if current_degree[i] == 0:\n",
    "            raise Exception('unused node {}'.format(i))\n",
    "    if not unused: \n",
    "        return total_len, cycle_edge\n",
    "    if len(unused) != 2:\n",
    "        raise Exception('unused node is not 2 {}'.format(unused))\n",
    "    else:\n",
    "        a,b = unused\n",
    "        cycle_edge.append((a,b))\n",
    "        total_len +=  G.get_edge_data(a, b)['weight']\n",
    "        return total_len, cycle_edge\n",
    "        "
   ]
  },
  {
   "cell_type": "markdown",
   "metadata": {},
   "source": [
    "## 习题2.6.1"
   ]
  },
  {
   "cell_type": "markdown",
   "metadata": {},
   "source": [
    "等价于对v个顶点多少不同排列，$v!$，每种方法都产生了2n个重复。所以最后结果为$\\frac{(v-1)!} 2$"
   ]
  },
  {
   "cell_type": "markdown",
   "metadata": {},
   "source": [
    "## 习题2.6.4 和 习题2.6.5"
   ]
  },
  {
   "cell_type": "markdown",
   "metadata": {},
   "source": [
    "### 习题2.6.4(i)"
   ]
  },
  {
   "cell_type": "code",
   "execution_count": 116,
   "metadata": {
    "ExecuteTime": {
     "end_time": "2019-01-20T09:17:58.465080Z",
     "start_time": "2019-01-20T09:17:58.455002Z"
    }
   },
   "outputs": [
    {
     "name": "stdout",
     "output_type": "stream",
     "text": [
      "nn method cost is (118, ['a', 'c', 'd', 'e', 'b', 'a'])\n",
      "sorted edge method cost is (115, [('c', 'd'), ('b', 'c'), ('a', 'b'), ('d', 'e'), ('a', 'e')])\n",
      "nn method start from a cost is (118, ['a', 'c', 'd', 'e', 'b', 'a'])\n",
      "nn method start from b cost is (115, ['b', 'c', 'd', 'e', 'a', 'b'])\n",
      "nn method start from c cost is (115, ['c', 'd', 'e', 'a', 'b', 'c'])\n",
      "nn method start from d cost is (115, ['d', 'c', 'b', 'a', 'e', 'd'])\n",
      "nn method start from e cost is (121, ['e', 'c', 'd', 'a', 'b', 'e'])\n"
     ]
    }
   ],
   "source": [
    "G = nx.Graph()\n",
    "G.add_nodes_from(['a', 'b', 'c', 'd', 'e'])\n",
    "G.add_edge('a', 'b', weight=24)\n",
    "G.add_edge('a', 'c', weight=21)\n",
    "G.add_edge('a', 'd', weight=30)\n",
    "G.add_edge('a', 'e', weight=28)\n",
    "G.add_edge('b', 'c', weight=19)\n",
    "G.add_edge('b', 'd', weight=32)\n",
    "G.add_edge('b', 'e', weight=29)\n",
    "G.add_edge('c', 'd', weight=18)\n",
    "G.add_edge('c', 'e', weight=20)\n",
    "G.add_edge('d', 'e', weight=26)\n",
    "print(\"nn method cost is {}\".format(nearest_neighbours(G, 'a')))\n",
    "print(\"sorted edge method cost is {}\".format(sorted_edge(G)))\n",
    "for i in G.nodes:\n",
    "    print(\"nn method start from {} cost is {}\".format(i, nearest_neighbours(G, i)))\n"
   ]
  },
  {
   "cell_type": "markdown",
   "metadata": {},
   "source": [
    "### 习题2.6.4(iii)"
   ]
  },
  {
   "cell_type": "code",
   "execution_count": 117,
   "metadata": {
    "ExecuteTime": {
     "end_time": "2019-01-20T09:18:00.219017Z",
     "start_time": "2019-01-20T09:18:00.208773Z"
    }
   },
   "outputs": [
    {
     "name": "stdout",
     "output_type": "stream",
     "text": [
      "nn method cost is (117, ['a', 'd', 'b', 'c', 'e', 'a'])\n",
      "sorted edge method cost is (117, [('a', 'd'), ('a', 'e'), ('b', 'd'), ('b', 'c'), ('c', 'e')])\n",
      "nn method start from a cost is (117, ['a', 'd', 'b', 'c', 'e', 'a'])\n",
      "nn method start from b cost is (117, ['b', 'd', 'a', 'e', 'c', 'b'])\n",
      "nn method start from c cost is (122, ['c', 'a', 'd', 'b', 'e', 'c'])\n",
      "nn method start from d cost is (117, ['d', 'a', 'e', 'c', 'b', 'd'])\n",
      "nn method start from e cost is (117, ['e', 'a', 'd', 'b', 'c', 'e'])\n"
     ]
    }
   ],
   "source": [
    "G = nx.Graph()\n",
    "G.add_nodes_from(['a', 'b', 'c', 'd', 'e'])\n",
    "G.add_edge('a', 'b', weight=24)\n",
    "G.add_edge('a', 'c', weight=23)\n",
    "G.add_edge('a', 'd', weight=20)\n",
    "G.add_edge('a', 'e', weight=21)\n",
    "G.add_edge('b', 'c', weight=27)\n",
    "G.add_edge('b', 'd', weight=22)\n",
    "G.add_edge('b', 'e', weight=30)\n",
    "G.add_edge('c', 'd', weight=26)\n",
    "G.add_edge('c', 'e', weight=27)\n",
    "G.add_edge('d', 'e', weight=28)\n",
    "print(\"nn method cost is {}\".format(nearest_neighbours(G, 'a')))\n",
    "print(\"sorted edge method cost is {}\".format(sorted_edge(G)))\n",
    "for i in G.nodes:\n",
    "    print(\"nn method start from {} cost is {}\".format(i, nearest_neighbours(G, i)))\n"
   ]
  },
  {
   "cell_type": "markdown",
   "metadata": {},
   "source": [
    "### 习题2.6.4(ii)"
   ]
  },
  {
   "cell_type": "code",
   "execution_count": 118,
   "metadata": {
    "ExecuteTime": {
     "end_time": "2019-01-20T09:18:06.248600Z",
     "start_time": "2019-01-20T09:18:06.238681Z"
    }
   },
   "outputs": [
    {
     "name": "stdout",
     "output_type": "stream",
     "text": [
      "nn method cost is (286, ['a', 'b', 'c', 'd', 'e', 'a'])\n",
      "sorted edge method cost is (286, [('a', 'b'), ('a', 'e'), ('b', 'c'), ('c', 'd'), ('d', 'e')])\n",
      "nn method start from a cost is (286, ['a', 'b', 'c', 'd', 'e', 'a'])\n",
      "nn method start from b cost is (286, ['b', 'a', 'e', 'd', 'c', 'b'])\n",
      "nn method start from c cost is (286, ['c', 'b', 'a', 'e', 'd', 'c'])\n",
      "nn method start from d cost is (319, ['d', 'a', 'b', 'c', 'e', 'd'])\n",
      "nn method start from e cost is (286, ['e', 'a', 'b', 'c', 'd', 'e'])\n"
     ]
    }
   ],
   "source": [
    "G = nx.Graph()\n",
    "G.add_nodes_from(['a', 'b', 'c', 'd', 'e'])\n",
    "G.add_edge('a', 'b', weight=28)\n",
    "G.add_edge('a', 'c', weight=79)\n",
    "G.add_edge('a', 'd', weight=70)\n",
    "G.add_edge('a', 'e', weight=48)\n",
    "G.add_edge('b', 'c', weight=57)\n",
    "G.add_edge('b', 'd', weight=94)\n",
    "G.add_edge('b', 'e', weight=66)\n",
    "G.add_edge('c', 'd', weight=72)\n",
    "G.add_edge('c', 'e', weight=83)\n",
    "G.add_edge('d', 'e', weight=81)\n",
    "print(\"nn method cost is {}\".format(nearest_neighbours(G, 'a')))\n",
    "print(\"sorted edge method cost is {}\".format(sorted_edge(G)))\n",
    "for i in G.nodes:\n",
    "    print(\"nn method start from {} cost is {}\".format(i, nearest_neighbours(G, i)))\n"
   ]
  },
  {
   "cell_type": "markdown",
   "metadata": {},
   "source": [
    "### 习题2.6.4(iv)"
   ]
  },
  {
   "cell_type": "code",
   "execution_count": 119,
   "metadata": {
    "ExecuteTime": {
     "end_time": "2019-01-20T09:18:06.248600Z",
     "start_time": "2019-01-20T09:18:06.238681Z"
    }
   },
   "outputs": [
    {
     "name": "stdout",
     "output_type": "stream",
     "text": [
      "nn method cost is (112, ['a', 'c', 'b', 'd', 'e', 'a'])\n",
      "sorted edge method cost is (113, [('b', 'c'), ('c', 'd'), ('a', 'b'), ('d', 'e'), ('a', 'e')])\n",
      "nn method start from a cost is (112, ['a', 'c', 'b', 'd', 'e', 'a'])\n",
      "nn method start from b cost is (113, ['b', 'c', 'd', 'e', 'a', 'b'])\n",
      "nn method start from c cost is (112, ['c', 'b', 'd', 'e', 'a', 'c'])\n",
      "nn method start from d cost is (113, ['d', 'c', 'b', 'a', 'e', 'd'])\n",
      "nn method start from e cost is (116, ['e', 'c', 'b', 'd', 'a', 'e'])\n"
     ]
    }
   ],
   "source": [
    "G = nx.Graph()\n",
    "G.add_nodes_from(['a', 'b', 'c', 'd', 'e'])\n",
    "G.add_edge('a', 'b', weight=24)\n",
    "G.add_edge('a', 'c', weight=22)\n",
    "G.add_edge('a', 'd', weight=30)\n",
    "G.add_edge('a', 'e', weight=29)\n",
    "G.add_edge('b', 'c', weight=17)\n",
    "G.add_edge('b', 'd', weight=19)\n",
    "G.add_edge('b', 'e', weight=30)\n",
    "G.add_edge('c', 'd', weight=18)\n",
    "G.add_edge('c', 'e', weight=21)\n",
    "G.add_edge('d', 'e', weight=25)\n",
    "print(\"nn method cost is {}\".format(nearest_neighbours(G, 'a')))\n",
    "print(\"sorted edge method cost is {}\".format(sorted_edge(G)))\n",
    "for i in G.nodes:\n",
    "    print(\"nn method start from {} cost is {}\".format(i, nearest_neighbours(G, i)))\n"
   ]
  },
  {
   "cell_type": "markdown",
   "metadata": {},
   "source": [
    "## 习题2.6.8"
   ]
  },
  {
   "cell_type": "markdown",
   "metadata": {},
   "source": [
    "需要用有向图，不同方向权重不同"
   ]
  }
 ],
 "metadata": {
  "kernelspec": {
   "display_name": "Python 3",
   "language": "python",
   "name": "python3"
  },
  "language_info": {
   "codemirror_mode": {
    "name": "ipython",
    "version": 3
   },
   "file_extension": ".py",
   "mimetype": "text/x-python",
   "name": "python",
   "nbconvert_exporter": "python",
   "pygments_lexer": "ipython3",
   "version": "3.6.7"
  },
  "toc": {
   "base_numbering": 1,
   "nav_menu": {},
   "number_sections": true,
   "sideBar": true,
   "skip_h1_title": false,
   "title_cell": "Table of Contents",
   "title_sidebar": "Contents",
   "toc_cell": false,
   "toc_position": {
    "height": "calc(100% - 180px)",
    "left": "10px",
    "top": "150px",
    "width": "208px"
   },
   "toc_section_display": true,
   "toc_window_display": true
  },
  "varInspector": {
   "cols": {
    "lenName": 16,
    "lenType": 16,
    "lenVar": 40
   },
   "kernels_config": {
    "python": {
     "delete_cmd_postfix": "",
     "delete_cmd_prefix": "del ",
     "library": "var_list.py",
     "varRefreshCmd": "print(var_dic_list())"
    },
    "r": {
     "delete_cmd_postfix": ") ",
     "delete_cmd_prefix": "rm(",
     "library": "var_list.r",
     "varRefreshCmd": "cat(var_dic_list()) "
    }
   },
   "types_to_exclude": [
    "module",
    "function",
    "builtin_function_or_method",
    "instance",
    "_Feature"
   ],
   "window_display": false
  }
 },
 "nbformat": 4,
 "nbformat_minor": 2
}
